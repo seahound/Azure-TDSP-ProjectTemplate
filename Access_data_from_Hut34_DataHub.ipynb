{
  "nbformat": 4,
  "nbformat_minor": 0,
  "metadata": {
    "colab": {
      "name": "Access data from Hut34 DataHub.ipynb",
      "provenance": [],
      "collapsed_sections": [],
      "include_colab_link": true
    },
    "kernelspec": {
      "name": "python3",
      "display_name": "Python 3"
    }
  },
  "cells": [
    {
      "cell_type": "markdown",
      "metadata": {
        "id": "view-in-github",
        "colab_type": "text"
      },
      "source": [
        "<a href=\"https://colab.research.google.com/github/seahound/Azure-TDSP-ProjectTemplate/blob/master/Access_data_from_Hut34_DataHub.ipynb\" target=\"_parent\"><img src=\"https://colab.research.google.com/assets/colab-badge.svg\" alt=\"Open In Colab\"/></a>"
      ]
    },
    {
      "cell_type": "markdown",
      "metadata": {
        "id": "zFSn_CNTp5dK",
        "colab_type": "text"
      },
      "source": [
        "# **Instructions on how to download, buy, and sell data from the Hut34 dataHub using Python**\n"
      ]
    },
    {
      "cell_type": "code",
      "metadata": {
        "id": "jSbucvf1pQ75",
        "colab_type": "code",
        "colab": {}
      },
      "source": [
        "import requests\n",
        "import pandas as pd\n",
        "from pandas import DataFrame"
      ],
      "execution_count": 0,
      "outputs": []
    },
    {
      "cell_type": "markdown",
      "metadata": {
        "id": "EOutnkLKDVn7",
        "colab_type": "text"
      },
      "source": [
        "## Obtain you Authentication Token   \n",
        "\n",
        "Go to the hut34 dataHub and select documentation => integrations.\n",
        "\n",
        "Copy your 'Id Token'\n",
        "\n",
        "![IntegrationToken](https://hut34.io/assets/documents/IntegrationToken.PNG)\n",
        "\n"
      ]
    },
    {
      "cell_type": "code",
      "metadata": {
        "id": "f2YUiMuMNDp8",
        "colab_type": "code",
        "colab": {}
      },
      "source": [
        "token = 'insert Id Token here'"
      ],
      "execution_count": 0,
      "outputs": []
    },
    {
      "cell_type": "markdown",
      "metadata": {
        "id": "qdpKPsq_6HMK",
        "colab_type": "text"
      },
      "source": [
        "## 1. Obtain a list of your Uploaded Datasets.  "
      ]
    },
    {
      "cell_type": "code",
      "metadata": {
        "id": "H7q99_dIOGHM",
        "colab_type": "code",
        "colab": {}
      },
      "source": [
        "def show():\n",
        "    \"\"\"\n",
        "    Lists all available datasets in a panda dataframe\n",
        "    \"\"\"\n",
        "    response = requests.post(url=\"https://hut34datahub.appspot.com/user/getUploadedDatasets\",data={'token': token})\n",
        "    if response.status_code == 200:\n",
        "        data = response.json()\n",
        "        return pd.DataFrame(data=[x['data'] for x in data],index=[x['id'] for x in data])\n",
        "    else:\n",
        "        return 'Error getting list of datasets'"
      ],
      "execution_count": 0,
      "outputs": []
    },
    {
      "cell_type": "code",
      "metadata": {
        "id": "r-t85LW2OWuR",
        "colab_type": "code",
        "outputId": "3d6b240b-c96c-4cec-d70a-f34efb12d98c",
        "colab": {
          "base_uri": "https://localhost:8080/",
          "height": 111
        }
      },
      "source": [
        "show()"
      ],
      "execution_count": 0,
      "outputs": [
        {
          "output_type": "execute_result",
          "data": {
            "text/html": [
              "<div>\n",
              "<style scoped>\n",
              "    .dataframe tbody tr th:only-of-type {\n",
              "        vertical-align: middle;\n",
              "    }\n",
              "\n",
              "    .dataframe tbody tr th {\n",
              "        vertical-align: top;\n",
              "    }\n",
              "\n",
              "    .dataframe thead th {\n",
              "        text-align: right;\n",
              "    }\n",
              "</style>\n",
              "<table border=\"1\" class=\"dataframe\">\n",
              "  <thead>\n",
              "    <tr style=\"text-align: right;\">\n",
              "      <th></th>\n",
              "      <th>ENTRPPrice</th>\n",
              "      <th>coverImage</th>\n",
              "      <th>name</th>\n",
              "      <th>description</th>\n",
              "    </tr>\n",
              "  </thead>\n",
              "  <tbody>\n",
              "    <tr>\n",
              "      <th>0HtC94YTEoZBrKYzQtMk</th>\n",
              "      <td>1.3</td>\n",
              "      <td>https://firebasestorage.googleapis.com/v0/b/hu...</td>\n",
              "      <td>F1 Constructors</td>\n",
              "      <td>A list of all F1 constructors</td>\n",
              "    </tr>\n",
              "    <tr>\n",
              "      <th>tPz5IRzaPnGTZJm1EAPx</th>\n",
              "      <td>2</td>\n",
              "      <td>https://firebasestorage.googleapis.com/v0/b/hu...</td>\n",
              "      <td>FBI Crime Rates</td>\n",
              "      <td>Crime Rates in the USA</td>\n",
              "    </tr>\n",
              "  </tbody>\n",
              "</table>\n",
              "</div>"
            ],
            "text/plain": [
              "                     ENTRPPrice  ...                    description\n",
              "0HtC94YTEoZBrKYzQtMk        1.3  ...  A list of all F1 constructors\n",
              "tPz5IRzaPnGTZJm1EAPx          2  ...         Crime Rates in the USA\n",
              "\n",
              "[2 rows x 4 columns]"
            ]
          },
          "metadata": {
            "tags": []
          },
          "execution_count": 39
        }
      ]
    },
    {
      "cell_type": "markdown",
      "metadata": {
        "id": "Ob-FlLcdp8Km",
        "colab_type": "text"
      },
      "source": [
        "Inside the hut34 datHub, your dataset Id can be found at Datasets => My Datasets\n",
        "\n",
        "![Select dataset ID](https://hut34.io/assets/documents/purchasedDatasetID.PNG)"
      ]
    },
    {
      "cell_type": "markdown",
      "metadata": {
        "id": "9sJknkHuRDwR",
        "colab_type": "text"
      },
      "source": [
        "# 2. Download your Dataset(s). "
      ]
    },
    {
      "cell_type": "code",
      "metadata": {
        "id": "3JUAsmwhPCgd",
        "colab_type": "code",
        "colab": {}
      },
      "source": [
        "dataset_id = \"<insert dats Id here>\""
      ],
      "execution_count": 0,
      "outputs": []
    },
    {
      "cell_type": "code",
      "metadata": {
        "id": "-MJV7qe9OsSa",
        "colab_type": "code",
        "colab": {}
      },
      "source": [
        "def load(dataset_id):\n",
        "    \"\"\"\n",
        "    Loads a dataset into a panda dataframe\n",
        "    \"\"\"\n",
        "    parameters = {'token': token, 'dataSetId': dataset_id}\n",
        "    response = requests.post(url=\"https://hut34datahub.appspot.com/user/downloadFile\",data=parameters)\n",
        "    if response.status_code == 200:\n",
        "        data = response.json()\n",
        "        return pd.DataFrame(data=data['data'],columns=[x['name'] for x in data['header']])\n",
        "    else:\n",
        "        return 'Error loading dataset'"
      ],
      "execution_count": 0,
      "outputs": []
    },
    {
      "cell_type": "code",
      "metadata": {
        "id": "vSbLzRPURqm4",
        "colab_type": "code",
        "colab": {}
      },
      "source": [
        "my_df=load(dataset_id)"
      ],
      "execution_count": 0,
      "outputs": []
    },
    {
      "cell_type": "code",
      "metadata": {
        "id": "7xtLK3wt6Kqy",
        "colab_type": "code",
        "outputId": "8ae90505-3b87-47f2-9ea6-5c6df8ee7182",
        "colab": {
          "base_uri": "https://localhost:8080/",
          "height": 275
        }
      },
      "source": [
        "my_df.head()"
      ],
      "execution_count": 0,
      "outputs": [
        {
          "output_type": "execute_result",
          "data": {
            "text/html": [
              "<div>\n",
              "<style scoped>\n",
              "    .dataframe tbody tr th:only-of-type {\n",
              "        vertical-align: middle;\n",
              "    }\n",
              "\n",
              "    .dataframe tbody tr th {\n",
              "        vertical-align: top;\n",
              "    }\n",
              "\n",
              "    .dataframe thead th {\n",
              "        text-align: right;\n",
              "    }\n",
              "</style>\n",
              "<table border=\"1\" class=\"dataframe\">\n",
              "  <thead>\n",
              "    <tr style=\"text-align: right;\">\n",
              "      <th></th>\n",
              "      <th>Year</th>\n",
              "      <th>Population1</th>\n",
              "      <th>Violent\\ncrime2</th>\n",
              "      <th>Violent \\ncrime \\nrate</th>\n",
              "      <th>Murder and\\nnonnegligent \\nmanslaughter</th>\n",
              "      <th>Murder and \\nnonnegligent \\nmanslaughter \\nrate</th>\n",
              "      <th>Rape\\n(revised \\ndefinition3)</th>\n",
              "      <th>Rape\\n(revised \\ndefinition) \\nrate3</th>\n",
              "      <th>Rape\\n(legacy \\ndefinition4)</th>\n",
              "      <th>Rape\\n(legacy \\ndefinition) \\nrate4</th>\n",
              "      <th>Robbery</th>\n",
              "      <th>Robbery \\nrate</th>\n",
              "      <th>Aggravated \\nassault</th>\n",
              "      <th>Aggravated \\nassault rate</th>\n",
              "      <th>Property \\ncrime</th>\n",
              "      <th>Property \\ncrime \\nrate</th>\n",
              "      <th>Burglary</th>\n",
              "      <th>Burglary \\nrate</th>\n",
              "      <th>Larceny-\\ntheft</th>\n",
              "      <th>Larceny-\\ntheft rate</th>\n",
              "      <th>Motor \\nvehicle \\ntheft</th>\n",
              "      <th>Motor \\nvehicle \\ntheft \\nrate</th>\n",
              "    </tr>\n",
              "  </thead>\n",
              "  <tbody>\n",
              "    <tr>\n",
              "      <th>0</th>\n",
              "      <td>1997</td>\n",
              "      <td>267,783,607</td>\n",
              "      <td>1,636,096</td>\n",
              "      <td>611</td>\n",
              "      <td>18,208</td>\n",
              "      <td>6.8</td>\n",
              "      <td></td>\n",
              "      <td></td>\n",
              "      <td>96,153</td>\n",
              "      <td>35.9</td>\n",
              "      <td>498,534</td>\n",
              "      <td>186.2</td>\n",
              "      <td>1,023,201</td>\n",
              "      <td>382.1</td>\n",
              "      <td>11,558,475</td>\n",
              "      <td>4,316.30</td>\n",
              "      <td>2,460,526</td>\n",
              "      <td>918.8</td>\n",
              "      <td>7,743,760</td>\n",
              "      <td>2,891.80</td>\n",
              "      <td>1,354,189</td>\n",
              "      <td>505.7</td>\n",
              "    </tr>\n",
              "    <tr>\n",
              "      <th>1</th>\n",
              "      <td>1998</td>\n",
              "      <td>270,248,003</td>\n",
              "      <td>1,533,887</td>\n",
              "      <td>567.6</td>\n",
              "      <td>16,974</td>\n",
              "      <td>6.3</td>\n",
              "      <td></td>\n",
              "      <td></td>\n",
              "      <td>93,144</td>\n",
              "      <td>34.5</td>\n",
              "      <td>447,186</td>\n",
              "      <td>165.5</td>\n",
              "      <td>976,583</td>\n",
              "      <td>361.4</td>\n",
              "      <td>10,951,827</td>\n",
              "      <td>4,052.50</td>\n",
              "      <td>2,332,735</td>\n",
              "      <td>863.2</td>\n",
              "      <td>7,376,311</td>\n",
              "      <td>2,729.50</td>\n",
              "      <td>1,242,781</td>\n",
              "      <td>459.9</td>\n",
              "    </tr>\n",
              "    <tr>\n",
              "      <th>2</th>\n",
              "      <td>1999</td>\n",
              "      <td>272,690,813</td>\n",
              "      <td>1,426,044</td>\n",
              "      <td>523</td>\n",
              "      <td>15,522</td>\n",
              "      <td>5.7</td>\n",
              "      <td></td>\n",
              "      <td></td>\n",
              "      <td>89,411</td>\n",
              "      <td>32.8</td>\n",
              "      <td>409,371</td>\n",
              "      <td>150.1</td>\n",
              "      <td>911,740</td>\n",
              "      <td>334.3</td>\n",
              "      <td>10,208,334</td>\n",
              "      <td>3,743.60</td>\n",
              "      <td>2,100,739</td>\n",
              "      <td>770.4</td>\n",
              "      <td>6,955,520</td>\n",
              "      <td>2,550.70</td>\n",
              "      <td>1,152,075</td>\n",
              "      <td>422.5</td>\n",
              "    </tr>\n",
              "    <tr>\n",
              "      <th>3</th>\n",
              "      <td>2000</td>\n",
              "      <td>281,421,906</td>\n",
              "      <td>1,425,486</td>\n",
              "      <td>506.5</td>\n",
              "      <td>15,586</td>\n",
              "      <td>5.5</td>\n",
              "      <td></td>\n",
              "      <td></td>\n",
              "      <td>90,178</td>\n",
              "      <td>32</td>\n",
              "      <td>408,016</td>\n",
              "      <td>145</td>\n",
              "      <td>911,706</td>\n",
              "      <td>324</td>\n",
              "      <td>10,182,584</td>\n",
              "      <td>3,618.30</td>\n",
              "      <td>2,050,992</td>\n",
              "      <td>728.8</td>\n",
              "      <td>6,971,590</td>\n",
              "      <td>2,477.30</td>\n",
              "      <td>1,160,002</td>\n",
              "      <td>412.2</td>\n",
              "    </tr>\n",
              "    <tr>\n",
              "      <th>4</th>\n",
              "      <td>20015</td>\n",
              "      <td>285,317,559</td>\n",
              "      <td>1,439,480</td>\n",
              "      <td>504.5</td>\n",
              "      <td>16,037</td>\n",
              "      <td>5.6</td>\n",
              "      <td></td>\n",
              "      <td></td>\n",
              "      <td>90,863</td>\n",
              "      <td>31.8</td>\n",
              "      <td>423,557</td>\n",
              "      <td>148.5</td>\n",
              "      <td>909,023</td>\n",
              "      <td>318.6</td>\n",
              "      <td>10,437,189</td>\n",
              "      <td>3,658.10</td>\n",
              "      <td>2,116,531</td>\n",
              "      <td>741.8</td>\n",
              "      <td>7,092,267</td>\n",
              "      <td>2,485.70</td>\n",
              "      <td>1,228,391</td>\n",
              "      <td>430.5</td>\n",
              "    </tr>\n",
              "  </tbody>\n",
              "</table>\n",
              "</div>"
            ],
            "text/plain": [
              "    Year  Population1  ... Motor \\nvehicle \\ntheft Motor \\nvehicle \\ntheft \\nrate \n",
              "0   1997  267,783,607  ...               1,354,189                           505.7\n",
              "1   1998  270,248,003  ...               1,242,781                           459.9\n",
              "2   1999  272,690,813  ...               1,152,075                           422.5\n",
              "3   2000  281,421,906  ...               1,160,002                           412.2\n",
              "4  20015  285,317,559  ...               1,228,391                           430.5\n",
              "\n",
              "[5 rows x 22 columns]"
            ]
          },
          "metadata": {
            "tags": []
          },
          "execution_count": 47
        }
      ]
    },
    {
      "cell_type": "markdown",
      "metadata": {
        "id": "V48Frh2-dI9-",
        "colab_type": "text"
      },
      "source": [
        "\n",
        "## 3. Retrieve list of All Datasets\n"
      ]
    },
    {
      "cell_type": "markdown",
      "metadata": {
        "id": "IMqF-CKDZ_fO",
        "colab_type": "text"
      },
      "source": [
        "## 4. Purchase a Dataset"
      ]
    },
    {
      "cell_type": "markdown",
      "metadata": {
        "id": "EiRTs4vUwAGp",
        "colab_type": "text"
      },
      "source": [
        "##5. Download a Purchased Dataset"
      ]
    },
    {
      "cell_type": "markdown",
      "metadata": {
        "id": "lSzHHdY2Z_xe",
        "colab_type": "text"
      },
      "source": [
        "##6. Upload a Dataset for sale"
      ]
    },
    {
      "cell_type": "markdown",
      "metadata": {
        "id": "8D916zBYZ_-f",
        "colab_type": "text"
      },
      "source": [
        "## Colossus Security Service"
      ]
    },
    {
      "cell_type": "markdown",
      "metadata": {
        "id": "_TZuS1gzaAId",
        "colab_type": "text"
      },
      "source": [
        "Upload a dataset to colossus"
      ]
    },
    {
      "cell_type": "markdown",
      "metadata": {
        "id": "-y4f2SxKaASa",
        "colab_type": "text"
      },
      "source": [
        "Download a datset from colossus"
      ]
    }
  ]
}